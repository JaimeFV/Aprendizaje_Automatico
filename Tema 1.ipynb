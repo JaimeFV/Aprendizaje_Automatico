{
 "cells": [
  {
   "cell_type": "code",
   "execution_count": 2,
   "id": "bb220c3d-27ef-4262-990a-aed30d8558bd",
   "metadata": {
    "tags": []
   },
   "outputs": [
    {
     "name": "stdout",
     "output_type": "stream",
     "text": [
      "Hola, mundo\n"
     ]
    }
   ],
   "source": [
    "print(\"Hola, mundo\")"
   ]
  },
  {
   "cell_type": "markdown",
   "id": "18d52010-abe9-4737-b25e-cee96bc7975c",
   "metadata": {},
   "source": [
    "Ahora voy a sumar dos números  (para hacer este comentario tenemos que cambiar el tipo a Markdown)"
   ]
  },
  {
   "cell_type": "code",
   "execution_count": 6,
   "id": "0a3f3b10-46d3-4c20-bc8b-718e2bb84b65",
   "metadata": {
    "tags": []
   },
   "outputs": [
    {
     "data": {
      "text/plain": [
       "11"
      ]
     },
     "execution_count": 6,
     "metadata": {},
     "output_type": "execute_result"
    }
   ],
   "source": [
    "3+8"
   ]
  },
  {
   "cell_type": "markdown",
   "id": "d6b5a734-7738-4935-81a4-c3a3a3852e52",
   "metadata": {},
   "source": [
    "Para dar nombre a una variable, se tiene que empezar por un valor no numérico"
   ]
  },
  {
   "cell_type": "code",
   "execution_count": 11,
   "id": "5c0aeee1-20d8-464e-a5e0-5190403dda54",
   "metadata": {
    "tags": []
   },
   "outputs": [
    {
     "data": {
      "text/plain": [
       "(3, 1.5, 1.5)"
      ]
     },
     "execution_count": 11,
     "metadata": {},
     "output_type": "execute_result"
    }
   ],
   "source": [
    "a = 3\n",
    "b = 1.5\n",
    "c = a-b\n",
    "\n",
    "a,b,c"
   ]
  },
  {
   "cell_type": "code",
   "execution_count": 12,
   "id": "45579a9d-94bf-4fcb-bab0-3c69c1bd896e",
   "metadata": {
    "tags": []
   },
   "outputs": [
    {
     "data": {
      "text/plain": [
       "True"
      ]
     },
     "execution_count": 12,
     "metadata": {},
     "output_type": "execute_result"
    }
   ],
   "source": [
    "b=True\n",
    "b"
   ]
  },
  {
   "cell_type": "code",
   "execution_count": 14,
   "id": "2018155d-acfc-41f3-8b42-2a92d2624ca7",
   "metadata": {
    "tags": []
   },
   "outputs": [
    {
     "data": {
      "text/plain": [
       "-38"
      ]
     },
     "execution_count": 14,
     "metadata": {},
     "output_type": "execute_result"
    }
   ],
   "source": [
    "neg = -38\n",
    "neg"
   ]
  },
  {
   "cell_type": "code",
   "execution_count": 16,
   "id": "24500623-f494-48b3-9a4d-84251d1b147a",
   "metadata": {
    "tags": []
   },
   "outputs": [
    {
     "data": {
      "text/plain": [
       "54.32"
      ]
     },
     "execution_count": 16,
     "metadata": {},
     "output_type": "execute_result"
    }
   ],
   "source": [
    "dec = 54.32\n",
    "dec"
   ]
  },
  {
   "cell_type": "code",
   "execution_count": 19,
   "id": "9b21e98f-ca51-4efb-a402-9729e22da4b9",
   "metadata": {
    "tags": []
   },
   "outputs": [
    {
     "data": {
      "text/plain": [
       "'Soy Jaime'"
      ]
     },
     "execution_count": 19,
     "metadata": {},
     "output_type": "execute_result"
    }
   ],
   "source": [
    "s = 'Soy Jaime'\n",
    "s"
   ]
  },
  {
   "cell_type": "code",
   "execution_count": 20,
   "id": "2e012fc0-eb4b-49ab-8883-58d358a21585",
   "metadata": {
    "tags": []
   },
   "outputs": [],
   "source": [
    "f = 65.4\n",
    "i = int(f)"
   ]
  },
  {
   "cell_type": "code",
   "execution_count": 21,
   "id": "f92e6306-6d08-48d2-a6a8-290e6bfe4804",
   "metadata": {
    "tags": []
   },
   "outputs": [
    {
     "data": {
      "text/plain": [
       "65"
      ]
     },
     "execution_count": 21,
     "metadata": {},
     "output_type": "execute_result"
    }
   ],
   "source": [
    "i"
   ]
  },
  {
   "cell_type": "code",
   "execution_count": 24,
   "id": "222affc4-ea19-45ec-a3e2-26ec0bdc3b4c",
   "metadata": {
    "tags": []
   },
   "outputs": [
    {
     "data": {
      "text/plain": [
       "'65.4'"
      ]
     },
     "execution_count": 24,
     "metadata": {},
     "output_type": "execute_result"
    }
   ],
   "source": [
    "f = 65.4\n",
    "i = str(f)\n",
    "i"
   ]
  },
  {
   "cell_type": "code",
   "execution_count": 22,
   "id": "c5acf882-b2e7-4950-ba2d-a20592e82aa3",
   "metadata": {
    "tags": []
   },
   "outputs": [
    {
     "data": {
      "text/plain": [
       "float"
      ]
     },
     "execution_count": 22,
     "metadata": {},
     "output_type": "execute_result"
    }
   ],
   "source": [
    "type(f)"
   ]
  },
  {
   "cell_type": "code",
   "execution_count": 25,
   "id": "05c3371f-b429-4bbb-91dc-7d9a51dd7389",
   "metadata": {
    "tags": []
   },
   "outputs": [
    {
     "data": {
      "text/plain": [
       "str"
      ]
     },
     "execution_count": 25,
     "metadata": {},
     "output_type": "execute_result"
    }
   ],
   "source": [
    "type(i)"
   ]
  },
  {
   "cell_type": "code",
   "execution_count": 26,
   "id": "3f070843-aff1-45c8-99dc-2346c3309763",
   "metadata": {
    "tags": []
   },
   "outputs": [
    {
     "data": {
      "text/plain": [
       "9.25"
      ]
     },
     "execution_count": 26,
     "metadata": {},
     "output_type": "execute_result"
    }
   ],
   "source": [
    "37 / 4"
   ]
  },
  {
   "cell_type": "code",
   "execution_count": 27,
   "id": "d23d9a74-ad31-4294-b929-5de19603300c",
   "metadata": {
    "tags": []
   },
   "outputs": [
    {
     "data": {
      "text/plain": [
       "(9, 1)"
      ]
     },
     "execution_count": 27,
     "metadata": {},
     "output_type": "execute_result"
    }
   ],
   "source": [
    "37 // 4, 37 % 4"
   ]
  },
  {
   "cell_type": "code",
   "execution_count": 28,
   "id": "c7ba359d-89f9-45f7-bb84-897bf8c4a39e",
   "metadata": {
    "tags": []
   },
   "outputs": [
    {
     "data": {
      "text/plain": [
       "False"
      ]
     },
     "execution_count": 28,
     "metadata": {},
     "output_type": "execute_result"
    }
   ],
   "source": [
    "3 <= 2"
   ]
  },
  {
   "cell_type": "code",
   "execution_count": 29,
   "id": "5572f69a-2518-4614-87e0-09e280a3774e",
   "metadata": {
    "tags": []
   },
   "outputs": [
    {
     "data": {
      "text/plain": [
       "True"
      ]
     },
     "execution_count": 29,
     "metadata": {},
     "output_type": "execute_result"
    }
   ],
   "source": [
    "3>=2"
   ]
  },
  {
   "cell_type": "code",
   "execution_count": 30,
   "id": "7461406c-5477-4115-8fc1-851e18a2ce66",
   "metadata": {
    "tags": []
   },
   "outputs": [
    {
     "data": {
      "text/plain": [
       "False"
      ]
     },
     "execution_count": 30,
     "metadata": {},
     "output_type": "execute_result"
    }
   ],
   "source": [
    "3 == 2"
   ]
  },
  {
   "cell_type": "code",
   "execution_count": 31,
   "id": "7356014d-a44c-4f57-8517-d9cb65403d1e",
   "metadata": {
    "tags": []
   },
   "outputs": [
    {
     "data": {
      "text/plain": [
       "False"
      ]
     },
     "execution_count": 31,
     "metadata": {},
     "output_type": "execute_result"
    }
   ],
   "source": [
    "a = 4\n",
    "b = 5\n",
    "b == a"
   ]
  },
  {
   "cell_type": "code",
   "execution_count": 32,
   "id": "9801ff35-93ba-45d4-be67-d7875e8ce95c",
   "metadata": {
    "tags": []
   },
   "outputs": [
    {
     "name": "stdout",
     "output_type": "stream",
     "text": [
      "Hola Mundo\n"
     ]
    }
   ],
   "source": [
    "a = 'Hola'\n",
    "b = 'Mundo'\n",
    "print(a + \" \"+ b)"
   ]
  },
  {
   "cell_type": "code",
   "execution_count": 33,
   "id": "34965803-b6e9-4228-806c-9a7f643edb95",
   "metadata": {
    "tags": []
   },
   "outputs": [
    {
     "name": "stdout",
     "output_type": "stream",
     "text": [
      "Hola 4\n"
     ]
    }
   ],
   "source": [
    "a = 'Hola'\n",
    "b = 4\n",
    "print(a + \" \"+ str  (b))"
   ]
  },
  {
   "cell_type": "code",
   "execution_count": 34,
   "id": "911de3cd-8acb-4ab1-935e-6f9dd988459c",
   "metadata": {
    "tags": []
   },
   "outputs": [
    {
     "name": "stdout",
     "output_type": "stream",
     "text": [
      "Hola 4\n"
     ]
    }
   ],
   "source": [
    "a = 'Hola'\n",
    "b = 4\n",
    "print(a + \" \"+   \"4\")"
   ]
  },
  {
   "cell_type": "code",
   "execution_count": 36,
   "id": "a156edcb-1533-41fd-95ff-420971369a97",
   "metadata": {
    "tags": []
   },
   "outputs": [
    {
     "data": {
      "text/plain": [
       "'Hola, Mundo'"
      ]
     },
     "execution_count": 36,
     "metadata": {},
     "output_type": "execute_result"
    }
   ],
   "source": [
    "\"Hola, mundo\".title()"
   ]
  },
  {
   "cell_type": "code",
   "execution_count": 38,
   "id": "ea9fc0e3-91c4-4dfb-b488-82af7d920d75",
   "metadata": {
    "tags": []
   },
   "outputs": [
    {
     "data": {
      "text/plain": [
       "'HOLA, MUNDO'"
      ]
     },
     "execution_count": 38,
     "metadata": {},
     "output_type": "execute_result"
    }
   ],
   "source": [
    "\"Hola, mundo\".upper()  #esto convierte la string en mayúsculas"
   ]
  },
  {
   "cell_type": "markdown",
   "id": "f4e08d61-e3e8-4c6e-b2dc-b9fe2948e315",
   "metadata": {},
   "source": [
    "EJERCICIOS"
   ]
  },
  {
   "cell_type": "markdown",
   "id": "c1d96fa9-1080-4014-b502-267738b74108",
   "metadata": {},
   "source": [
    "Ejercicio 1: Beneficio Neto después de Impuestos"
   ]
  },
  {
   "cell_type": "code",
   "execution_count": 41,
   "id": "5421a663-96fc-4570-b8fb-3427a98593e0",
   "metadata": {
    "tags": []
   },
   "outputs": [
    {
     "data": {
      "text/plain": [
       "58875.0"
      ]
     },
     "execution_count": 41,
     "metadata": {},
     "output_type": "execute_result"
    }
   ],
   "source": [
    "ingreso_bruto = 75_000 #en € #podemos poner guión bajo por tema de visibilidad\n",
    "tipo_impositivo = 21.5  #en %\n",
    "beneficio_neto = ingreso_bruto - (ingreso_bruto * tipo_impositivo / 100)\n",
    "beneficio_neto"
   ]
  },
  {
   "cell_type": "code",
   "execution_count": 42,
   "id": "416062f5-b994-4385-8ab4-5fefd4add553",
   "metadata": {
    "tags": []
   },
   "outputs": [
    {
     "data": {
      "text/plain": [
       "float"
      ]
     },
     "execution_count": 42,
     "metadata": {},
     "output_type": "execute_result"
    }
   ],
   "source": [
    "type(beneficio_neto)"
   ]
  },
  {
   "cell_type": "markdown",
   "id": "2851146f-2d42-40a9-b669-e11e328501b9",
   "metadata": {},
   "source": [
    "Ejercicio 3: Área de un Trapecio"
   ]
  },
  {
   "cell_type": "code",
   "execution_count": 3,
   "id": "b9fdad57-e961-402e-a2f7-5fb74a11c502",
   "metadata": {
    "tags": []
   },
   "outputs": [
    {
     "name": "stdout",
     "output_type": "stream",
     "text": [
      "El área del trapecio es de 45.0cm2\n"
     ]
    }
   ],
   "source": [
    "h = 6\n",
    "a = 5\n",
    "b = 10\n",
    "\n",
    "A = h * (a + b) / 2\n",
    "print(\"El área del trapecio es de \" + str(A) + \"cm2\")   #otra manera sería: , A, en vez de + str(A) +"
   ]
  },
  {
   "cell_type": "markdown",
   "id": "f4576c09-5b77-4981-b76f-7d4c97e2d967",
   "metadata": {},
   "source": [
    "Ejercicio 5: Área y volumen de una esfera"
   ]
  },
  {
   "cell_type": "code",
   "execution_count": 5,
   "id": "7fab4f03-fb2a-4b82-b459-929a51cfb2e6",
   "metadata": {
    "tags": []
   },
   "outputs": [
    {
     "name": "stdout",
     "output_type": "stream",
     "text": [
      "La esfera de diámetro  3 cm. tiene un área de 28.26 cm2 y un volumen de 14.13 cm3\n"
     ]
    }
   ],
   "source": [
    "d = 3\n",
    "r = d / 2\n",
    "pi = 3.14\n",
    "A = 4 * pi * r ** 2\n",
    "V = round((4 / 3) * pi * r ** 3, 2)\n",
    "print(\"La esfera de diámetro \", d, \"cm. tiene un área de\", A,  \"cm2 y un volumen de\", V, \"cm3\")"
   ]
  },
  {
   "cell_type": "code",
   "execution_count": 6,
   "id": "a5951bdd-b061-474e-814d-d02e4d6b9954",
   "metadata": {
    "tags": []
   },
   "outputs": [
    {
     "data": {
      "text/plain": [
       "3.141592653589793"
      ]
     },
     "execution_count": 6,
     "metadata": {},
     "output_type": "execute_result"
    }
   ],
   "source": [
    "import math\n",
    "math.pi"
   ]
  }
 ],
 "metadata": {
  "kernelspec": {
   "display_name": "Python 3 (ipykernel)",
   "language": "python",
   "name": "python3"
  },
  "language_info": {
   "codemirror_mode": {
    "name": "ipython",
    "version": 3
   },
   "file_extension": ".py",
   "mimetype": "text/x-python",
   "name": "python",
   "nbconvert_exporter": "python",
   "pygments_lexer": "ipython3",
   "version": "3.10.12"
  }
 },
 "nbformat": 4,
 "nbformat_minor": 5
}
